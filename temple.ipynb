{
 "cells": [
  {
   "cell_type": "code",
   "execution_count": 10,
   "id": "28f0d61b",
   "metadata": {
    "vscode": {
     "languageId": "plaintext"
    }
   },
   "outputs": [
    {
     "name": "stdout",
     "output_type": "stream",
     "text": [
      "🖐️ Show thumb & index gestures to control Temple Run. Press ESC to exit.\n"
     ]
    }
   ],
   "source": [
    "import cv2\n",
    "from mediapipe.python.solutions import hands as mp_hands\n",
    "from mediapipe.python.solutions import drawing_utils as mp_draw\n",
    "import pyautogui\n",
    "import time\n",
    "\n",
    "# Initialize MediaPipe Hands\n",
    "hands = mp_hands.Hands(max_num_hands=1, min_detection_confidence=0.7)\n",
    "\n",
    "# Function to determine which fingers are up\n",
    "def get_finger_states(hand_landmarks):\n",
    "    fingers = []\n",
    "\n",
    "    # Thumb: compare tip (4) to joint (3) - for right hand only, flip if needed\n",
    "    if hand_landmarks.landmark[4].x < hand_landmarks.landmark[3].x:\n",
    "        fingers.append(1)  # Thumb up\n",
    "    else:\n",
    "        fingers.append(0)  # Thumb down\n",
    "\n",
    "    # Fingers: index(8), middle(12), ring(16), pinky(20)\n",
    "    tip_ids = [8, 12, 16, 20]\n",
    "    for tip in tip_ids:\n",
    "        if hand_landmarks.landmark[tip].y < hand_landmarks.landmark[tip - 2].y:\n",
    "            fingers.append(1)\n",
    "        else:\n",
    "            fingers.append(0)\n",
    "\n",
    "    return fingers  # [thumb, index, middle, ring, pinky]\n",
    "\n",
    "# Map finger states to gesture and trigger keyboard commands for Temple Run\n",
    "def interpret_gesture(fingers):\n",
    "    # Only three gestures, simplified:\n",
    "\n",
    "    # Index finger only → Jump (space key)\n",
    "    if fingers == [0, 1, 0, 0, 0]:\n",
    "        pyautogui.press('space')\n",
    "        return \"Index ➜ Jump\"\n",
    "\n",
    "    # Thumb only → Slide (down arrow)\n",
    "    elif fingers == [1, 0, 0, 0, 0]:\n",
    "        pyautogui.press('down')\n",
    "        return \"Thumb ➜ Slide\"\n",
    "\n",
    "    # Index + Thumb → Move Left (left arrow)\n",
    "    elif fingers == [1, 1, 0, 0, 0]:\n",
    "        pyautogui.press('left')\n",
    "        return \"Index + Thumb ➜ Left\"\n",
    "\n",
    "    else:\n",
    "        return \"Show a gesture...\"\n",
    "\n",
    "# Start webcam\n",
    "cap = cv2.VideoCapture(0)\n",
    "time.sleep(2)\n",
    "print(\"🖐️ Show thumb & index gestures to control Temple Run. Press ESC to exit.\")\n",
    "\n",
    "while True:\n",
    "    ret, frame = cap.read()\n",
    "    if not ret:\n",
    "        break\n",
    "\n",
    "    frame = cv2.flip(frame, 1)  # Mirror image\n",
    "    rgb = cv2.cvtColor(frame, cv2.COLOR_BGR2RGB)\n",
    "    result = hands.process(rgb)\n",
    "\n",
    "    gesture_text = \"No hand detected\"\n",
    "\n",
    "    if result.multi_hand_landmarks:\n",
    "        for handLms in result.multi_hand_landmarks:\n",
    "            mp_draw.draw_landmarks(frame, handLms, mp_hands.HAND_CONNECTIONS)\n",
    "\n",
    "            finger_states = get_finger_states(handLms)\n",
    "            gesture_text = interpret_gesture(finger_states)\n",
    "\n",
    "    # Draw transparent rectangle behind text\n",
    "    overlay = frame.copy()\n",
    "    cv2.rectangle(overlay, (5, 5), (400, 50), (0, 0, 0), -1)\n",
    "    alpha = 0.6  # Transparency factor\n",
    "    frame = cv2.addWeighted(overlay, alpha, frame, 1 - alpha, 0)\n",
    "\n",
    "    # Display gesture text\n",
    "    cv2.putText(frame, gesture_text, (10, 40), cv2.FONT_HERSHEY_SIMPLEX,\n",
    "                1, (0, 255, 0), 2, cv2.LINE_AA)\n",
    "\n",
    "    cv2.imshow(\"Temple Run Hand Gesture Control\", frame)\n",
    "\n",
    "    # Exit on ESC key\n",
    "    if cv2.waitKey(1) & 0xFF == 27:\n",
    "        break\n",
    "\n",
    "cap.release()\n",
    "cv2.destroyAllWindows()\n"
   ]
  },
  {
   "cell_type": "code",
   "execution_count": null,
   "id": "6d2f6ed1-0906-4cf5-a11e-d3af72139e5c",
   "metadata": {},
   "outputs": [],
   "source": []
  },
  {
   "cell_type": "code",
   "execution_count": null,
   "id": "dca39c00-ef08-49f2-864e-f745cc5f3f3b",
   "metadata": {},
   "outputs": [],
   "source": []
  }
 ],
 "metadata": {
  "kernelspec": {
   "display_name": "Python [conda env:base] *",
   "language": "python",
   "name": "conda-base-py"
  },
  "language_info": {
   "codemirror_mode": {
    "name": "ipython",
    "version": 3
   },
   "file_extension": ".py",
   "mimetype": "text/x-python",
   "name": "python",
   "nbconvert_exporter": "python",
   "pygments_lexer": "ipython3",
   "version": "3.12.3"
  }
 },
 "nbformat": 4,
 "nbformat_minor": 5
}
